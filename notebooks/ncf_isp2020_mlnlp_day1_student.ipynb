{
  "nbformat": 4,
  "nbformat_minor": 0,
  "metadata": {
    "colab": {
      "name": "ncf-isp2020-nlmlp-day1-student.ipynb",
      "provenance": [],
      "collapsed_sections": [],
      "toc_visible": true
    },
    "kernelspec": {
      "name": "python3",
      "display_name": "Python 3"
    }
  },
  "cells": [
    {
      "cell_type": "markdown",
      "metadata": {
        "id": "WG6A2L7-jUwB"
      },
      "source": [
        "# Data Preparation\n",
        "\n",
        "Clone GitHub repository to Colab storage."
      ]
    },
    {
      "cell_type": "code",
      "metadata": {
        "id": "mXLCNpOZiyAs"
      },
      "source": [
        "!git clone https://github.com/megagonlabs/HappyDB.git"
      ],
      "execution_count": null,
      "outputs": []
    },
    {
      "cell_type": "code",
      "metadata": {
        "id": "lUYf9g9_jFKH"
      },
      "source": [
        "!ls"
      ],
      "execution_count": null,
      "outputs": []
    },
    {
      "cell_type": "code",
      "metadata": {
        "id": "WasmXyADjHT7"
      },
      "source": [
        "!ls HappyDB/happydb/data"
      ],
      "execution_count": null,
      "outputs": []
    },
    {
      "cell_type": "markdown",
      "metadata": {
        "id": "WsnWtFElj3_v"
      },
      "source": [
        "## Loading CSV file as DataFrame\n",
        "\n",
        "Use `.read_csv()` function to load a CSV file."
      ]
    },
    {
      "cell_type": "code",
      "metadata": {
        "id": "cFwKyYpYigFM"
      },
      "source": [
        "import pandas as pd"
      ],
      "execution_count": null,
      "outputs": []
    },
    {
      "cell_type": "code",
      "metadata": {
        "id": "8Kijkbc5i9ap"
      },
      "source": [
        "hm_df = pd.read_csv(\"HappyDB/happydb/data/cleaned_hm.csv\")\n",
        "hm_df.head()"
      ],
      "execution_count": null,
      "outputs": []
    },
    {
      "cell_type": "code",
      "metadata": {
        "id": "eUB2ZVMqj_ey"
      },
      "source": [
        "hm_df.columns"
      ],
      "execution_count": null,
      "outputs": []
    },
    {
      "cell_type": "code",
      "metadata": {
        "id": "Twbs4_aho44P"
      },
      "source": [
        "# Showing basic statistics \n",
        "hm_df.describe()"
      ],
      "execution_count": null,
      "outputs": []
    },
    {
      "cell_type": "code",
      "metadata": {
        "id": "7q--RCwZkBRZ"
      },
      "source": [
        "# Take a look at label distribution\n",
        "hm_df[\"ground_truth_category\"].value_counts()"
      ],
      "execution_count": null,
      "outputs": []
    },
    {
      "cell_type": "code",
      "metadata": {
        "id": "_VZPEhNKkEnd"
      },
      "source": [
        "# Take a look at # of sentences\n",
        "hm_df[\"num_sentence\"].value_counts().sort_index()"
      ],
      "execution_count": null,
      "outputs": []
    },
    {
      "cell_type": "code",
      "metadata": {
        "id": "_O3TGhi0kLA0"
      },
      "source": [
        "# Filtering out samples that do not have ground truth labels\n",
        "#   or # of sentences > 3\n",
        "filtered_hm_df = hm_df[(hm_df[\"num_sentence\"] <= 3) &\n",
        "                       (~ hm_df[\"ground_truth_category\"].isnull())]\n",
        "                       \n",
        "print(\"Original # of HM: {}\".format(len(hm_df)))\n",
        "print(\"Filtered # of HM: {}\".format(len(filtered_hm_df)))"
      ],
      "execution_count": null,
      "outputs": []
    },
    {
      "cell_type": "markdown",
      "metadata": {
        "id": "kt69LV3HlsAe"
      },
      "source": [
        "# Label vector & Feature matrix creation\n",
        "\n",
        "Let's create label vector and feature matrix from the DataFrame."
      ]
    },
    {
      "cell_type": "code",
      "metadata": {
        "id": "Mxy656PSluYj"
      },
      "source": [
        "import numpy as np\n",
        "\n",
        "from sklearn.feature_extraction.text import CountVectorizer\n",
        "from sklearn.linear_model import LogisticRegression\n",
        "from sklearn.model_selection import KFold, GridSearchCV, train_test_split\n",
        "from sklearn.preprocessing import LabelEncoder\n",
        "from sklearn.metrics import confusion_matrix, f1_score"
      ],
      "execution_count": null,
      "outputs": []
    },
    {
      "cell_type": "code",
      "metadata": {
        "id": "L-dsqTP0mGC2"
      },
      "source": [
        "# Label Encoder\n",
        "le = LabelEncoder()\n",
        "y = le.fit_transform(filtered_hm_df[\"ground_truth_category\"])\n",
        "y"
      ],
      "execution_count": null,
      "outputs": []
    },
    {
      "cell_type": "code",
      "metadata": {
        "id": "iAH1JBYWmyKX"
      },
      "source": [
        "le.classes_"
      ],
      "execution_count": null,
      "outputs": []
    },
    {
      "cell_type": "code",
      "metadata": {
        "id": "x4L7katmm0uV"
      },
      "source": [
        "# Count vectorizer creates BoW representation\n",
        "vectorizer = CountVectorizer()\n",
        "X = vectorizer.fit_transform(filtered_hm_df[\"cleaned_hm\"])\n",
        "X"
      ],
      "execution_count": null,
      "outputs": []
    },
    {
      "cell_type": "markdown",
      "metadata": {
        "id": "iTlMpbdeuQZs"
      },
      "source": [
        "# Train-test split"
      ]
    },
    {
      "cell_type": "code",
      "metadata": {
        "id": "Ycr-8Mgrp3qK"
      },
      "source": [
        "# Split data\n",
        "X_train, X_test, y_train, y_test = train_test_split(X, y,\n",
        "                                                    test_size=0.33,\n",
        "                                                    random_state=1)\n"
      ],
      "execution_count": null,
      "outputs": []
    },
    {
      "cell_type": "code",
      "metadata": {
        "id": "9chqEGcPrVcY"
      },
      "source": [
        "clf = LogisticRegression()\n",
        "clf.fit(X_train, y_train)\n",
        "print(\"Training Accuracy: {:.4f}\".format(clf.score(X_train, y_train)))\n",
        "print(\"Test Accuracy: {:.4f}\".format(clf.score(X_test, y_test)))"
      ],
      "execution_count": null,
      "outputs": []
    },
    {
      "cell_type": "markdown",
      "metadata": {
        "id": "glTq_1oJtn2U"
      },
      "source": [
        "### Try! Change hyper-parameter `C` and run the same script."
      ]
    },
    {
      "cell_type": "code",
      "metadata": {
        "id": "v7Vwo4Bos47V"
      },
      "source": [
        "clf = LogisticRegression(C=10.0) # <= Change the value and re-run the code block\n",
        "clf.fit(X_train, y_train)\n",
        "print(\"Training Accuracy: {:.4f}\".format(clf.score(X_train, y_train)))\n",
        "print(\"Test Accuracy: {:.4f}\".format(clf.score(X_test, y_test)))"
      ],
      "execution_count": null,
      "outputs": []
    },
    {
      "cell_type": "code",
      "metadata": {
        "id": "kA2lNKqjuy7L"
      },
      "source": [
        ""
      ],
      "execution_count": null,
      "outputs": []
    },
    {
      "cell_type": "markdown",
      "metadata": {
        "id": "Bp-vac6zuzND"
      },
      "source": [
        "## (Optional) Draw train/test accuracy curve vs C \n",
        "\n",
        "This curve helps us understand the ``trend'' of C values"
      ]
    },
    {
      "cell_type": "markdown",
      "metadata": {
        "id": "Z-BfY-A_tDxU"
      },
      "source": [
        "### Try! Test other supervised learning algorithms\n",
        "\n",
        "See https://scikit-learn.org/ and try different classifier to see if it performs better than Logistic Regression."
      ]
    },
    {
      "cell_type": "code",
      "metadata": {
        "id": "3Ha8LNumrwvd"
      },
      "source": [
        "# ===============================================\n",
        "clf = None # <== Try other classifier\n",
        "clf.fit(X_train, y_train)\n",
        "print(\"Training Accuracy: {:2f}\".format(clf.score(X_train, y_train)))\n",
        "print(\"Test Accuracy: {:2f}\".format(clf.score(X_test, y_test)))\n",
        "# ==============================================="
      ],
      "execution_count": null,
      "outputs": []
    },
    {
      "cell_type": "markdown",
      "metadata": {
        "id": "lRZR6EJArTWj"
      },
      "source": [
        "# (Advanced) Cross validation\n",
        "\n",
        "Use cross validation instead of one-shot train-test split for evaluation. You can also try learning algorithms other then Logistic Regression for further analysis.\n"
      ]
    },
    {
      "cell_type": "code",
      "metadata": {
        "id": "fixxp-40pQ3p"
      },
      "source": [
        "import warnings\n",
        "warnings.filterwarnings('ignore')\n",
        "\n",
        "kf = KFold(n_splits=5, random_state=1)\n",
        "cm = np.zeros([len(le.classes_),\n",
        "               len(le.classes_)],\n",
        "              dtype=\"int\") # Initialize confusion matrix with 0\n",
        "f1_list = []\n",
        "for train_index, test_index in kf.split(X):\n",
        "  X_train, X_test = X[train_index], X[test_index]\n",
        "  y_train, y_test = y[train_index], y[test_index]\n",
        "  clf = GridSearchCV(LogisticRegression(),\n",
        "                     param_grid={\"C\": [0.01, 0.1, 1.0]})\n",
        "  clf.fit(X_train, y_train)\n",
        "  y_pred = clf.predict(X_test)\n",
        "  cm += confusion_matrix(y_test, y_pred)\n",
        "  f1_list.append(f1_score(y_test, y_pred, average=\"macro\"))\n",
        "\n",
        "f1_scores = np.array(f1_list)"
      ],
      "execution_count": null,
      "outputs": []
    },
    {
      "cell_type": "code",
      "metadata": {
        "id": "BW5AqwDjq2Xn"
      },
      "source": [
        "f1_scores"
      ],
      "execution_count": null,
      "outputs": []
    },
    {
      "cell_type": "code",
      "metadata": {
        "id": "YpoNlTpcq3wB"
      },
      "source": [
        "cm"
      ],
      "execution_count": null,
      "outputs": []
    },
    {
      "cell_type": "code",
      "metadata": {
        "id": "wSAxuKxbXEAL"
      },
      "source": [
        "le.classes_"
      ],
      "execution_count": null,
      "outputs": []
    },
    {
      "cell_type": "markdown",
      "metadata": {
        "id": "iTr_X-0rt--4"
      },
      "source": [
        "# Next Steps\n",
        "\n",
        "Tomorrow, we will explore more sophisticated feature engineering and data analysis including visualization.\n"
      ]
    }
  ]
}